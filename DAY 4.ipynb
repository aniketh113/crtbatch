{
 "cells": [
  {
   "cell_type": "markdown",
   "metadata": {},
   "source": [
    "# STRING METHODS:"
   ]
  },
  {
   "cell_type": "code",
   "execution_count": 2,
   "metadata": {},
   "outputs": [
    {
     "name": "stdout",
     "output_type": "stream",
     "text": [
      "PYTHON\n",
      "python\n"
     ]
    }
   ],
   "source": [
    "#CONVERT IN TO UPPERCASE and LOWERCASE\n",
    "s=\"Python\"\n",
    "print(s.upper())\n",
    "print(s.lower())\n"
   ]
  },
  {
   "cell_type": "code",
   "execution_count": 4,
   "metadata": {},
   "outputs": [
    {
     "name": "stdout",
     "output_type": "stream",
     "text": [
      "python\n",
      "True\n"
     ]
    }
   ],
   "source": [
    "#STRING BOOLEAN METHODS:\n",
    "s=\"python\"\n",
    "print(s)\n",
    "print(s.islower())"
   ]
  },
  {
   "cell_type": "code",
   "execution_count": 5,
   "metadata": {},
   "outputs": [
    {
     "name": "stdout",
     "output_type": "stream",
     "text": [
      "True\n",
      "False\n",
      "False\n"
     ]
    }
   ],
   "source": [
    "#istitle:which will check that given string is title \n",
    "s1=\"Python Programming\"\n",
    "s2=\"python programming\"\n",
    "s3=\"Python programming\"\n",
    "print(s1.istitle())\n",
    "print(s2.istitle())\n",
    "print(s3.istitle())\n"
   ]
  },
  {
   "cell_type": "code",
   "execution_count": 6,
   "metadata": {},
   "outputs": [
    {
     "name": "stdout",
     "output_type": "stream",
     "text": [
      "True\n",
      "False\n"
     ]
    }
   ],
   "source": [
    "#isnumeric:-which will check the given string is having only numeric values\n",
    "s1=\"1234\"\n",
    "s2=\"se333\"\n",
    "print(s1.isnumeric())\n",
    "print(s2.isnumeric())"
   ]
  },
  {
   "cell_type": "code",
   "execution_count": 8,
   "metadata": {},
   "outputs": [
    {
     "name": "stdout",
     "output_type": "stream",
     "text": [
      "False\n",
      "True\n"
     ]
    }
   ],
   "source": [
    "# isalpha:-which will check the given string is only having alphabets\n",
    "s1=\"12wwewe\"\n",
    "s2=\"hejegeg\"\n",
    "print(s1.isalpha())\n",
    "print(s2.isalpha())"
   ]
  },
  {
   "cell_type": "code",
   "execution_count": 9,
   "metadata": {},
   "outputs": [
    {
     "name": "stdout",
     "output_type": "stream",
     "text": [
      "True\n",
      "False\n"
     ]
    }
   ],
   "source": [
    "#isspace:-which will check the the string contain only space\n",
    "s1=\" \"\n",
    "s2=\"py th on\"\n",
    "print(s1.isspace())\n",
    "print(s2.isspace())\n"
   ]
  },
  {
   "cell_type": "code",
   "execution_count": 14,
   "metadata": {},
   "outputs": [
    {
     "data": {
      "text/plain": [
       "[1, 8, 9, 7, 6]"
      ]
     },
     "execution_count": 14,
     "metadata": {},
     "output_type": "execute_result"
    }
   ],
   "source": [
    "#PROGRAM TO CONVERT DIGITS IN A NUMBER TO LIST \n",
    "def ani(n):\n",
    "    li=[]\n",
    "    while n!=0:\n",
    "        r=n%10\n",
    "        li.append(r)\n",
    "        n=n//10\n",
    "    return li[::-1]\n",
    "ani(18976)\n",
    "        "
   ]
  },
  {
   "cell_type": "code",
   "execution_count": 6,
   "metadata": {},
   "outputs": [
    {
     "name": "stdout",
     "output_type": "stream",
     "text": [
      "12\n",
      "[1, 2, 3, 4, 6, 12]\n"
     ]
    }
   ],
   "source": [
    "#FUNTIONS TO CHECK \n",
    "n=int(input())\n",
    "li=[]\n",
    "i=0\n",
    "for i in range(1,n+1):\n",
    "    if n%i==0:\n",
    "        li.append(i)\n",
    "print(li)\n",
    "      "
   ]
  },
  {
   "cell_type": "code",
   "execution_count": 13,
   "metadata": {},
   "outputs": [
    {
     "name": "stdout",
     "output_type": "stream",
     "text": [
      "12\n",
      "[1, 2, 3, 4, 6, 12]\n"
     ]
    }
   ],
   "source": [
    "def factos(n):\n",
    "    n=int(input())\n",
    "    li=[]\n",
    "    i=0\n",
    "    for i in range(1,n+1):\n",
    "        if n%i==0:\n",
    "            li.append(i)\n",
    "    print(li)\n",
    "    \n",
    "factos(n)"
   ]
  },
  {
   "cell_type": "code",
   "execution_count": 2,
   "metadata": {},
   "outputs": [
    {
     "name": "stdout",
     "output_type": "stream",
     "text": [
      "500\n",
      "520\n",
      "500,502,504,506,508,510,512,514,516,518,520,"
     ]
    }
   ],
   "source": [
    "def series(m,n):\n",
    "    i=0\n",
    "    for i in range(m,n+1,2):\n",
    "        print(i,end=\",\")\n",
    "\n",
    "        \n",
    "m=int(input())\n",
    "n=int(input())\n",
    "\n",
    "        \n",
    "series(m,n)    "
   ]
  },
  {
   "cell_type": "code",
   "execution_count": 13,
   "metadata": {
    "scrolled": true
   },
   "outputs": [
    {
     "ename": "NameError",
     "evalue": "name 'n' is not defined",
     "output_type": "error",
     "traceback": [
      "\u001b[1;31m---------------------------------------------------------------------------\u001b[0m",
      "\u001b[1;31mNameError\u001b[0m                                 Traceback (most recent call last)",
      "\u001b[1;32m<ipython-input-13-391346e4f226>\u001b[0m in \u001b[0;36m<module>\u001b[1;34m\u001b[0m\n\u001b[0;32m     17\u001b[0m \u001b[1;33m\u001b[0m\u001b[0m\n\u001b[0;32m     18\u001b[0m     \u001b[0mn\u001b[0m\u001b[1;33m=\u001b[0m\u001b[0mint\u001b[0m\u001b[1;33m(\u001b[0m\u001b[0minput\u001b[0m\u001b[1;33m(\u001b[0m\u001b[1;33m)\u001b[0m\u001b[1;33m)\u001b[0m\u001b[1;33m\u001b[0m\u001b[1;33m\u001b[0m\u001b[0m\n\u001b[1;32m---> 19\u001b[1;33m \u001b[0mstrng\u001b[0m\u001b[1;33m(\u001b[0m\u001b[0mn\u001b[0m\u001b[1;33m)\u001b[0m\u001b[1;33m\u001b[0m\u001b[1;33m\u001b[0m\u001b[0m\n\u001b[0m",
      "\u001b[1;31mNameError\u001b[0m: name 'n' is not defined"
     ]
    }
   ],
   "source": [
    "#strong number:-\n",
    "def strng(n):\n",
    "    st=0\n",
    "    while n!=0:\n",
    "        i=1\n",
    "        f=1\n",
    "        r=n%10\n",
    "        while i<=n:\n",
    "            f=r*i\n",
    "            i=i+1\n",
    "        st=st+f\n",
    "    n=n//10\n",
    "    if(st==n):\n",
    "        print(\"STRONG NUMBER\")\n",
    "    else:\n",
    "        print(\"not A STRONG NUMBER\")\n",
    "        \n",
    "    n=int(input())\n",
    "strng(n)\n"
   ]
  },
  {
   "cell_type": "code",
   "execution_count": 15,
   "metadata": {},
   "outputs": [
    {
     "name": "stdout",
     "output_type": "stream",
     "text": [
      "[1, 3, 5, 7, 9]\n"
     ]
    }
   ],
   "source": [
    "a=[1,2,3,4,5,6,7,8,9]\n",
    "print(a[::2])"
   ]
  },
  {
   "cell_type": "code",
   "execution_count": 17,
   "metadata": {},
   "outputs": [
    {
     "name": "stdout",
     "output_type": "stream",
     "text": [
      "4\n"
     ]
    }
   ],
   "source": [
    "a=100//25\n",
    "print(a)"
   ]
  },
  {
   "cell_type": "code",
   "execution_count": 19,
   "metadata": {},
   "outputs": [
    {
     "name": "stdout",
     "output_type": "stream",
     "text": [
      "{1: 5, 2: 3}\n"
     ]
    }
   ],
   "source": [
    "a={1:5,2:3,3:4}\n",
    "a.pop(3)\n",
    "print(a)"
   ]
  },
  {
   "cell_type": "code",
   "execution_count": 20,
   "metadata": {},
   "outputs": [
    {
     "ename": "SyntaxError",
     "evalue": "invalid syntax (<ipython-input-20-129d22c09a5b>, line 1)",
     "output_type": "error",
     "traceback": [
      "\u001b[1;36m  File \u001b[1;32m\"<ipython-input-20-129d22c09a5b>\"\u001b[1;36m, line \u001b[1;32m1\u001b[0m\n\u001b[1;33m    for i in [1,2,3,4][::-1]\u001b[0m\n\u001b[1;37m                            ^\u001b[0m\n\u001b[1;31mSyntaxError\u001b[0m\u001b[1;31m:\u001b[0m invalid syntax\n"
     ]
    }
   ],
   "source": [
    "for i in [1,2,3,4][::-1]\n",
    "print(1)"
   ]
  }
 ],
 "metadata": {
  "kernelspec": {
   "display_name": "Python 3",
   "language": "python",
   "name": "python3"
  },
  "language_info": {
   "codemirror_mode": {
    "name": "ipython",
    "version": 3
   },
   "file_extension": ".py",
   "mimetype": "text/x-python",
   "name": "python",
   "nbconvert_exporter": "python",
   "pygments_lexer": "ipython3",
   "version": "3.7.4"
  }
 },
 "nbformat": 4,
 "nbformat_minor": 2
}
